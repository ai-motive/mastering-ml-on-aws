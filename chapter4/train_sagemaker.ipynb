{
 "cells": [
  {
   "cell_type": "code",
   "execution_count": 1,
   "metadata": {},
   "outputs": [],
   "source": [
    "import sagemaker\n",
    "from sagemaker import get_execution_role\n",
    "\n",
    "import boto3\n",
    "\n",
    "sess = sagemaker.Session()\n",
    "role = get_execution_role()\n",
    "bucket = \"mastering-ml-aws\"\n",
    "prefix = \"chapter4/sagemaker\"\n",
    "container = sagemaker.amazon.amazon_estimator.get_image_uri('us-east-1', \"xgboost\", \"latest\")\n",
    "s3_output_location = 's3://{}/{}/output'.format(bucket, prefix)\n"
   ]
  },
  {
   "cell_type": "code",
   "execution_count": 2,
   "metadata": {},
   "outputs": [],
   "source": [
    "sagemaker_model = sagemaker.estimator.Estimator(container,\n",
    "                                                role,\n",
    "                                                train_instance_count=1,\n",
    "                                                train_instance_type='ml.c4.4xlarge',\n",
    "                                                train_volume_size=30,\n",
    "                                                train_max_run=360000,\n",
    "                                                input_mode='File',\n",
    "                                                output_path=s3_output_location,\n",
    "                                                sagemaker_session=sess)\n"
   ]
  },
  {
   "cell_type": "code",
   "execution_count": 19,
   "metadata": {},
   "outputs": [],
   "source": [
    "s3_validation_data = 's3://mastering-ml-aws/chapter4/test-vector-csv/'\n",
    "s3_train_data = 's3://mastering-ml-aws/chapter4/training-vector-csv/'\n",
    "s3_test_data = 's3://mastering-ml-aws/chapter4/test-vector-csv-no-label/'\n"
   ]
  },
  {
   "cell_type": "code",
   "execution_count": 8,
   "metadata": {},
   "outputs": [
    {
     "name": "stderr",
     "output_type": "stream",
     "text": [
      "INFO:sagemaker:Creating training-job with name: xgboost-2019-02-09-13-52-55-230\n"
     ]
    },
    {
     "name": "stdout",
     "output_type": "stream",
     "text": [
      "2019-02-09 13:52:55 Starting - Starting the training job...\n",
      "2019-02-09 13:52:56 Starting - Launching requested ML instances......\n",
      "2019-02-09 13:54:03 Starting - Preparing the instances for training......\n",
      "2019-02-09 13:55:24 Downloading - Downloading input data\n",
      "2019-02-09 13:55:24 Training - Downloading the training image..\n",
      "\u001b[31mArguments: train\u001b[0m\n",
      "\u001b[31m[2019-02-09:13:55:29:INFO] Running standalone xgboost training.\u001b[0m\n",
      "\u001b[31m[2019-02-09:13:55:29:INFO] File size need to be processed in the node: 1550.03mb. Available memory size in the node: 22264.79mb\u001b[0m\n",
      "\u001b[31m[2019-02-09:13:55:29:INFO] Determined delimiter of CSV input is ','\u001b[0m\n",
      "\u001b[31m[13:55:29] S3DistributionType set as FullyReplicated\u001b[0m\n",
      "\u001b[31m[13:55:36] 3233720x100 matrix with 323372000 entries loaded from /opt/ml/input/data/train?format=csv&label_column=0&delimiter=,\u001b[0m\n",
      "\u001b[31m[2019-02-09:13:55:36:INFO] Determined delimiter of CSV input is ','\u001b[0m\n",
      "\u001b[31m[13:55:36] S3DistributionType set as FullyReplicated\u001b[0m\n",
      "\u001b[31m[13:55:38] 809374x100 matrix with 80937400 entries loaded from /opt/ml/input/data/validation?format=csv&label_column=0&delimiter=,\u001b[0m\n",
      "\n",
      "2019-02-09 13:55:29 Training - Training image download completed. Training in progress.\u001b[31m[13:55:42] src/tree/updater_prune.cc:74: tree pruning end, 1 roots, 10 extra nodes, 0 pruned nodes, max_depth=5\u001b[0m\n",
      "\u001b[31m[0]#011train-error:0.169075#011validation-error:0.16916\u001b[0m\n",
      "\u001b[31m[13:55:44] src/tree/updater_prune.cc:74: tree pruning end, 1 roots, 10 extra nodes, 0 pruned nodes, max_depth=5\u001b[0m\n",
      "\u001b[31m[1]#011train-error:0.169075#011validation-error:0.16916\u001b[0m\n",
      "\u001b[31m[13:55:45] src/tree/updater_prune.cc:74: tree pruning end, 1 roots, 12 extra nodes, 0 pruned nodes, max_depth=5\u001b[0m\n",
      "\u001b[31m[2]#011train-error:0.169075#011validation-error:0.16916\u001b[0m\n",
      "\u001b[31m[13:55:47] src/tree/updater_prune.cc:74: tree pruning end, 1 roots, 10 extra nodes, 0 pruned nodes, max_depth=5\u001b[0m\n",
      "\u001b[31m[3]#011train-error:0.169075#011validation-error:0.16916\u001b[0m\n",
      "\u001b[31m[13:55:49] src/tree/updater_prune.cc:74: tree pruning end, 1 roots, 10 extra nodes, 2 pruned nodes, max_depth=5\u001b[0m\n",
      "\u001b[31m[4]#011train-error:0.169075#011validation-error:0.16916\u001b[0m\n",
      "\u001b[31m[13:55:50] src/tree/updater_prune.cc:74: tree pruning end, 1 roots, 12 extra nodes, 0 pruned nodes, max_depth=5\u001b[0m\n",
      "\u001b[31m[5]#011train-error:0.169796#011validation-error:0.169888\u001b[0m\n",
      "\u001b[31m[13:55:52] src/tree/updater_prune.cc:74: tree pruning end, 1 roots, 10 extra nodes, 0 pruned nodes, max_depth=5\u001b[0m\n",
      "\u001b[31m[6]#011train-error:0.169075#011validation-error:0.16916\u001b[0m\n",
      "\u001b[31m[13:55:53] src/tree/updater_prune.cc:74: tree pruning end, 1 roots, 12 extra nodes, 2 pruned nodes, max_depth=5\u001b[0m\n",
      "\u001b[31m[7]#011train-error:0.169796#011validation-error:0.169888\u001b[0m\n",
      "\u001b[31m[13:55:55] src/tree/updater_prune.cc:74: tree pruning end, 1 roots, 10 extra nodes, 0 pruned nodes, max_depth=5\u001b[0m\n",
      "\u001b[31m[8]#011train-error:0.169796#011validation-error:0.169888\u001b[0m\n",
      "\u001b[31m[13:55:56] src/tree/updater_prune.cc:74: tree pruning end, 1 roots, 12 extra nodes, 0 pruned nodes, max_depth=5\u001b[0m\n",
      "\u001b[31m[9]#011train-error:0.169796#011validation-error:0.169888\u001b[0m\n",
      "\u001b[31m[13:55:57] src/tree/updater_prune.cc:74: tree pruning end, 1 roots, 12 extra nodes, 2 pruned nodes, max_depth=5\u001b[0m\n",
      "\u001b[31m[10]#011train-error:0.169796#011validation-error:0.169888\u001b[0m\n",
      "\u001b[31m[13:55:59] src/tree/updater_prune.cc:74: tree pruning end, 1 roots, 14 extra nodes, 0 pruned nodes, max_depth=5\u001b[0m\n",
      "\u001b[31m[11]#011train-error:0.169796#011validation-error:0.169888\u001b[0m\n",
      "\u001b[31m[13:56:01] src/tree/updater_prune.cc:74: tree pruning end, 1 roots, 12 extra nodes, 0 pruned nodes, max_depth=5\u001b[0m\n",
      "\u001b[31m[12]#011train-error:0.169796#011validation-error:0.169888\u001b[0m\n",
      "\u001b[31m[13:56:02] src/tree/updater_prune.cc:74: tree pruning end, 1 roots, 12 extra nodes, 2 pruned nodes, max_depth=5\u001b[0m\n",
      "\u001b[31m[13]#011train-error:0.169796#011validation-error:0.169888\u001b[0m\n",
      "\u001b[31m[13:56:03] src/tree/updater_prune.cc:74: tree pruning end, 1 roots, 10 extra nodes, 0 pruned nodes, max_depth=5\u001b[0m\n",
      "\u001b[31m[14]#011train-error:0.169796#011validation-error:0.169888\u001b[0m\n",
      "\u001b[31m[13:56:05] src/tree/updater_prune.cc:74: tree pruning end, 1 roots, 12 extra nodes, 4 pruned nodes, max_depth=5\u001b[0m\n",
      "\u001b[31m[15]#011train-error:0.169796#011validation-error:0.169888\u001b[0m\n",
      "\u001b[31m[13:56:06] src/tree/updater_prune.cc:74: tree pruning end, 1 roots, 12 extra nodes, 0 pruned nodes, max_depth=5\u001b[0m\n",
      "\u001b[31m[16]#011train-error:0.169796#011validation-error:0.169888\u001b[0m\n",
      "\u001b[31m[13:56:08] src/tree/updater_prune.cc:74: tree pruning end, 1 roots, 12 extra nodes, 0 pruned nodes, max_depth=5\u001b[0m\n",
      "\u001b[31m[17]#011train-error:0.169796#011validation-error:0.169888\u001b[0m\n",
      "\u001b[31m[13:56:09] src/tree/updater_prune.cc:74: tree pruning end, 1 roots, 16 extra nodes, 0 pruned nodes, max_depth=5\u001b[0m\n",
      "\u001b[31m[18]#011train-error:0.169796#011validation-error:0.169888\u001b[0m\n",
      "\u001b[31m[13:56:11] src/tree/updater_prune.cc:74: tree pruning end, 1 roots, 10 extra nodes, 2 pruned nodes, max_depth=5\u001b[0m\n",
      "\u001b[31m[19]#011train-error:0.169796#011validation-error:0.169888\u001b[0m\n",
      "\u001b[31m[13:56:12] src/tree/updater_prune.cc:74: tree pruning end, 1 roots, 14 extra nodes, 4 pruned nodes, max_depth=5\u001b[0m\n",
      "\u001b[31m[20]#011train-error:0.169796#011validation-error:0.169888\u001b[0m\n",
      "\u001b[31m[13:56:14] src/tree/updater_prune.cc:74: tree pruning end, 1 roots, 16 extra nodes, 0 pruned nodes, max_depth=5\u001b[0m\n",
      "\u001b[31m[21]#011train-error:0.169796#011validation-error:0.169888\u001b[0m\n",
      "\u001b[31m[13:56:15] src/tree/updater_prune.cc:74: tree pruning end, 1 roots, 10 extra nodes, 0 pruned nodes, max_depth=5\u001b[0m\n",
      "\u001b[31m[22]#011train-error:0.169796#011validation-error:0.169888\u001b[0m\n",
      "\u001b[31m[13:56:17] src/tree/updater_prune.cc:74: tree pruning end, 1 roots, 12 extra nodes, 0 pruned nodes, max_depth=5\u001b[0m\n",
      "\u001b[31m[23]#011train-error:0.169796#011validation-error:0.169888\u001b[0m\n",
      "\u001b[31m[13:56:18] src/tree/updater_prune.cc:74: tree pruning end, 1 roots, 12 extra nodes, 0 pruned nodes, max_depth=5\u001b[0m\n",
      "\u001b[31m[24]#011train-error:0.169796#011validation-error:0.169888\u001b[0m\n",
      "\u001b[31m[13:56:20] src/tree/updater_prune.cc:74: tree pruning end, 1 roots, 10 extra nodes, 0 pruned nodes, max_depth=5\u001b[0m\n",
      "\u001b[31m[25]#011train-error:0.169796#011validation-error:0.169888\u001b[0m\n",
      "\u001b[31m[13:56:21] src/tree/updater_prune.cc:74: tree pruning end, 1 roots, 12 extra nodes, 2 pruned nodes, max_depth=5\u001b[0m\n",
      "\u001b[31m[26]#011train-error:0.169796#011validation-error:0.169888\u001b[0m\n",
      "\u001b[31m[13:56:23] src/tree/updater_prune.cc:74: tree pruning end, 1 roots, 16 extra nodes, 0 pruned nodes, max_depth=5\u001b[0m\n",
      "\u001b[31m[27]#011train-error:0.169796#011validation-error:0.169888\u001b[0m\n",
      "\u001b[31m[13:56:24] src/tree/updater_prune.cc:74: tree pruning end, 1 roots, 16 extra nodes, 0 pruned nodes, max_depth=5\u001b[0m\n",
      "\u001b[31m[28]#011train-error:0.169796#011validation-error:0.169888\u001b[0m\n",
      "\u001b[31m[13:56:26] src/tree/updater_prune.cc:74: tree pruning end, 1 roots, 12 extra nodes, 2 pruned nodes, max_depth=5\u001b[0m\n",
      "\u001b[31m[29]#011train-error:0.169796#011validation-error:0.169888\u001b[0m\n",
      "\u001b[31m[13:56:27] src/tree/updater_prune.cc:74: tree pruning end, 1 roots, 10 extra nodes, 2 pruned nodes, max_depth=5\u001b[0m\n",
      "\u001b[31m[30]#011train-error:0.169796#011validation-error:0.169888\u001b[0m\n",
      "\u001b[31m[13:56:29] src/tree/updater_prune.cc:74: tree pruning end, 1 roots, 12 extra nodes, 2 pruned nodes, max_depth=5\u001b[0m\n",
      "\u001b[31m[31]#011train-error:0.169796#011validation-error:0.169888\u001b[0m\n",
      "\u001b[31m[13:56:30] src/tree/updater_prune.cc:74: tree pruning end, 1 roots, 16 extra nodes, 0 pruned nodes, max_depth=5\u001b[0m\n",
      "\u001b[31m[32]#011train-error:0.169796#011validation-error:0.169888\u001b[0m\n",
      "\u001b[31m[13:56:32] src/tree/updater_prune.cc:74: tree pruning end, 1 roots, 12 extra nodes, 0 pruned nodes, max_depth=5\u001b[0m\n",
      "\u001b[31m[33]#011train-error:0.169796#011validation-error:0.169888\u001b[0m\n",
      "\u001b[31m[13:56:33] src/tree/updater_prune.cc:74: tree pruning end, 1 roots, 16 extra nodes, 0 pruned nodes, max_depth=5\u001b[0m\n",
      "\u001b[31m[34]#011train-error:0.169796#011validation-error:0.169888\u001b[0m\n",
      "\u001b[31m[13:56:35] src/tree/updater_prune.cc:74: tree pruning end, 1 roots, 12 extra nodes, 4 pruned nodes, max_depth=5\u001b[0m\n",
      "\u001b[31m[35]#011train-error:0.169796#011validation-error:0.169888\u001b[0m\n",
      "\u001b[31m[13:56:36] src/tree/updater_prune.cc:74: tree pruning end, 1 roots, 10 extra nodes, 0 pruned nodes, max_depth=5\u001b[0m\n",
      "\u001b[31m[36]#011train-error:0.169796#011validation-error:0.169888\u001b[0m\n",
      "\u001b[31m[13:56:38] src/tree/updater_prune.cc:74: tree pruning end, 1 roots, 16 extra nodes, 0 pruned nodes, max_depth=5\u001b[0m\n",
      "\u001b[31m[37]#011train-error:0.169796#011validation-error:0.169888\u001b[0m\n",
      "\u001b[31m[13:56:39] src/tree/updater_prune.cc:74: tree pruning end, 1 roots, 10 extra nodes, 0 pruned nodes, max_depth=5\u001b[0m\n",
      "\u001b[31m[38]#011train-error:0.169796#011validation-error:0.169888\u001b[0m\n",
      "\u001b[31m[13:56:41] src/tree/updater_prune.cc:74: tree pruning end, 1 roots, 10 extra nodes, 8 pruned nodes, max_depth=5\u001b[0m\n",
      "\u001b[31m[39]#011train-error:0.169796#011validation-error:0.169888\u001b[0m\n",
      "\u001b[31m[13:56:42] src/tree/updater_prune.cc:74: tree pruning end, 1 roots, 12 extra nodes, 0 pruned nodes, max_depth=5\u001b[0m\n",
      "\u001b[31m[40]#011train-error:0.169796#011validation-error:0.169888\u001b[0m\n",
      "\u001b[31m[13:56:43] src/tree/updater_prune.cc:74: tree pruning end, 1 roots, 18 extra nodes, 2 pruned nodes, max_depth=5\u001b[0m\n",
      "\u001b[31m[41]#011train-error:0.169796#011validation-error:0.169888\u001b[0m\n",
      "\u001b[31m[13:56:45] src/tree/updater_prune.cc:74: tree pruning end, 1 roots, 10 extra nodes, 0 pruned nodes, max_depth=5\u001b[0m\n",
      "\u001b[31m[42]#011train-error:0.169796#011validation-error:0.169888\u001b[0m\n"
     ]
    },
    {
     "name": "stdout",
     "output_type": "stream",
     "text": [
      "\u001b[31m[13:56:46] src/tree/updater_prune.cc:74: tree pruning end, 1 roots, 14 extra nodes, 0 pruned nodes, max_depth=5\u001b[0m\n",
      "\u001b[31m[43]#011train-error:0.169796#011validation-error:0.169888\u001b[0m\n",
      "\u001b[31m[13:56:48] src/tree/updater_prune.cc:74: tree pruning end, 1 roots, 12 extra nodes, 0 pruned nodes, max_depth=5\u001b[0m\n",
      "\u001b[31m[44]#011train-error:0.169796#011validation-error:0.169888\u001b[0m\n",
      "\u001b[31m[13:56:49] src/tree/updater_prune.cc:74: tree pruning end, 1 roots, 14 extra nodes, 2 pruned nodes, max_depth=5\u001b[0m\n",
      "\u001b[31m[45]#011train-error:0.169796#011validation-error:0.169888\u001b[0m\n",
      "\u001b[31m[13:56:51] src/tree/updater_prune.cc:74: tree pruning end, 1 roots, 14 extra nodes, 2 pruned nodes, max_depth=5\u001b[0m\n",
      "\u001b[31m[46]#011train-error:0.169796#011validation-error:0.169888\u001b[0m\n",
      "\u001b[31m[13:56:52] src/tree/updater_prune.cc:74: tree pruning end, 1 roots, 14 extra nodes, 0 pruned nodes, max_depth=5\u001b[0m\n",
      "\u001b[31m[47]#011train-error:0.169796#011validation-error:0.169888\u001b[0m\n",
      "\u001b[31m[13:56:54] src/tree/updater_prune.cc:74: tree pruning end, 1 roots, 12 extra nodes, 6 pruned nodes, max_depth=5\u001b[0m\n",
      "\u001b[31m[48]#011train-error:0.169076#011validation-error:0.16916\u001b[0m\n",
      "\u001b[31m[13:56:55] src/tree/updater_prune.cc:74: tree pruning end, 1 roots, 16 extra nodes, 4 pruned nodes, max_depth=5\u001b[0m\n",
      "\u001b[31m[49]#011train-error:0.169076#011validation-error:0.16916\u001b[0m\n",
      "\n",
      "2019-02-09 13:57:07 Uploading - Uploading generated training model\n",
      "2019-02-09 13:57:07 Completed - Training job completed\n",
      "Billable seconds: 127\n"
     ]
    }
   ],
   "source": [
    "sagemaker_model.set_hyperparameters(objective='binary:logistic',\n",
    "                                    max_depth=5,\n",
    "                                    eta=0.2,\n",
    "                                    gamma=4,\n",
    "                                    min_child_weight=6,\n",
    "                                    subsample=0.7,\n",
    "                                    silent=0,\n",
    "                                    num_round=50)\n",
    "\n",
    "train_data = sagemaker.session.s3_input(s3_train_data, distribution='FullyReplicated',\n",
    "                                        content_type='text/csv', s3_data_type='S3Prefix')\n",
    "validation_data = sagemaker.session.s3_input(s3_validation_data, distribution='FullyReplicated',\n",
    "                                             content_type='text/csv', s3_data_type='S3Prefix')\n",
    "data_channels = {'train': train_data, 'validation': validation_data}\n",
    "\n",
    "sagemaker_model.fit(inputs=data_channels, logs=True)\n"
   ]
  },
  {
   "cell_type": "code",
   "execution_count": 24,
   "metadata": {},
   "outputs": [
    {
     "name": "stderr",
     "output_type": "stream",
     "text": [
      "INFO:sagemaker:Creating model with name: xgboost-2019-02-09-13-52-55-230\n",
      "WARNING:sagemaker:Using already existing model: xgboost-2019-02-09-13-52-55-230\n",
      "INFO:sagemaker:Creating transform job with name: xgboost-2019-02-09-14-55-57-076\n"
     ]
    },
    {
     "name": "stdout",
     "output_type": "stream",
     "text": [
      "............................................!\n"
     ]
    }
   ],
   "source": [
    "transformer = sagemaker_model.transformer(instance_count=1, instance_type='ml.m4.2xlarge',\n",
    "                                          output_path=s3_output_location, strategy='SingleRecord')\n",
    "transformer.transform(s3_test_data, content_type='text/csv')\n",
    "transformer.wait()\n"
   ]
  },
  {
   "cell_type": "code",
   "execution_count": 25,
   "metadata": {},
   "outputs": [
    {
     "data": {
      "text/plain": [
       "'s3://mastering-ml-aws/chapter4/sagemaker/output'"
      ]
     },
     "execution_count": 25,
     "metadata": {},
     "output_type": "execute_result"
    }
   ],
   "source": [
    "transformer.output_path\n"
   ]
  },
  {
   "cell_type": "code",
   "execution_count": 33,
   "metadata": {},
   "outputs": [
    {
     "name": "stdout",
     "output_type": "stream",
     "text": [
      "                           PRE xgboost-2019-02-09-13-52-55-230/\r\n",
      "2019-02-09 14:59:25          0 _SUCCESS.out\r\n",
      "2019-02-09 14:59:27     121773 part-00000-cee24b45-7f40-4309-a808-8120c23d9088-c000.csv.out\r\n",
      "2019-02-09 14:59:27     121772 part-00001-cee24b45-7f40-4309-a808-8120c23d9088-c000.csv.out\r\n",
      "2019-02-09 14:59:27     121771 part-00002-cee24b45-7f40-4309-a808-8120c23d9088-c000.csv.out\r\n",
      "2019-02-09 14:59:27     121772 part-00003-cee24b45-7f40-4309-a808-8120c23d9088-c000.csv.out\r\n",
      "2019-02-09 14:59:27     121772 part-00004-cee24b45-7f40-4309-a808-8120c23d9088-c000.csv.out\r\n",
      "2019-02-09 14:59:27     121772 part-00005-cee24b45-7f40-4309-a808-8120c23d9088-c000.csv.out\r\n",
      "2019-02-09 14:59:27     121772 part-00006-cee24b45-7f40-4309-a808-8120c23d9088-c000.csv.out\r\n",
      "2019-02-09 14:59:27     121771 part-00007-cee24b45-7f40-4309-a808-8120c23d9088-c000.csv.out\r\n",
      "\r\n",
      "[Errno 32] Broken pipe\r\n",
      "Exception ignored in: <_io.TextIOWrapper name='<stdout>' mode='w' encoding='UTF-8'>\r\n",
      "BrokenPipeError: [Errno 32] Broken pipe\r\n"
     ]
    }
   ],
   "source": [
    "!aws s3 ls s3://mastering-ml-aws/chapter4/sagemaker/output/ | head"
   ]
  },
  {
   "cell_type": "code",
   "execution_count": 8,
   "metadata": {},
   "outputs": [],
   "source": [
    "import pandas as pd\n",
    "\n",
    "scores_df = pd.read_csv(\n",
    "    's3://mastering-ml-aws/chapter4/sagemaker/output/part-00000-cee24b45-7f40-4309-a808-8120c23d9088-c000.csv.out',\n",
    "    header=None, names=['score'])\n"
   ]
  },
  {
   "cell_type": "code",
   "execution_count": 42,
   "metadata": {},
   "outputs": [
    {
     "data": {
      "text/html": [
       "<div>\n",
       "<style scoped>\n",
       "    .dataframe tbody tr th:only-of-type {\n",
       "        vertical-align: middle;\n",
       "    }\n",
       "\n",
       "    .dataframe tbody tr th {\n",
       "        vertical-align: top;\n",
       "    }\n",
       "\n",
       "    .dataframe thead th {\n",
       "        text-align: right;\n",
       "    }\n",
       "</style>\n",
       "<table border=\"1\" class=\"dataframe\">\n",
       "  <thead>\n",
       "    <tr style=\"text-align: right;\">\n",
       "      <th></th>\n",
       "      <th>score</th>\n",
       "    </tr>\n",
       "  </thead>\n",
       "  <tbody>\n",
       "    <tr>\n",
       "      <th>0</th>\n",
       "      <td>0.12479</td>\n",
       "    </tr>\n",
       "    <tr>\n",
       "      <th>1</th>\n",
       "      <td>0.16786</td>\n",
       "    </tr>\n",
       "    <tr>\n",
       "      <th>2</th>\n",
       "      <td>0.16786</td>\n",
       "    </tr>\n",
       "    <tr>\n",
       "      <th>3</th>\n",
       "      <td>0.16786</td>\n",
       "    </tr>\n",
       "    <tr>\n",
       "      <th>4</th>\n",
       "      <td>0.16786</td>\n",
       "    </tr>\n",
       "  </tbody>\n",
       "</table>\n",
       "</div>"
      ],
      "text/plain": [
       "     score\n",
       "0  0.12479\n",
       "1  0.16786\n",
       "2  0.16786\n",
       "3  0.16786\n",
       "4  0.16786"
      ]
     },
     "execution_count": 42,
     "metadata": {},
     "output_type": "execute_result"
    }
   ],
   "source": [
    "scores_df.head(5)"
   ]
  },
  {
   "cell_type": "code",
   "execution_count": 48,
   "metadata": {},
   "outputs": [
    {
     "name": "stdout",
     "output_type": "stream",
     "text": [
      "2019-02-09 13:57:04      12982 chapter4/sagemaker/output/xgboost-2019-02-09-13-52-55-230/output/model.tar.gz\r\n"
     ]
    }
   ],
   "source": [
    "!aws s3 ls --recursive s3://mastering-ml-aws/chapter4/sagemaker/ | grep model"
   ]
  },
  {
   "cell_type": "code",
   "execution_count": 5,
   "metadata": {},
   "outputs": [
    {
     "name": "stdout",
     "output_type": "stream",
     "text": [
      "xgboost-model\r\n"
     ]
    }
   ],
   "source": [
    "!tar xvf /tmp/model.tar.gz"
   ]
  },
  {
   "cell_type": "code",
   "execution_count": 4,
   "metadata": {},
   "outputs": [
    {
     "name": "stdout",
     "output_type": "stream",
     "text": [
      "Completed 12.7 KiB/12.7 KiB (130.2 KiB/s) with 1 file(s) remaining\r",
      "download: s3://mastering-ml-aws/chapter4/sagemaker/output/xgboost-2019-02-09-13-52-55-230/output/model.tar.gz to ../../../../../tmp/model.tar.gz\r\n"
     ]
    }
   ],
   "source": [
    "!aws s3 cp s3://mastering-ml-aws/chapter4/sagemaker/output/xgboost-2019-02-09-13-52-55-230/output/model.tar.gz /tmp/model.tar.gz"
   ]
  },
  {
   "cell_type": "code",
   "execution_count": 2,
   "metadata": {},
   "outputs": [
    {
     "name": "stdout",
     "output_type": "stream",
     "text": [
      "Collecting xgboost\n",
      "\u001b[?25l  Downloading https://files.pythonhosted.org/packages/54/21/8b2ec99862903a6d3aed62ce156d21d114b8666e669c46d9e54041df9496/xgboost-0.81-py2.py3-none-manylinux1_x86_64.whl (16.6MB)\n",
      "\u001b[K    100% |████████████████████████████████| 16.6MB 2.7MB/s eta 0:00:01\n",
      "\u001b[?25hRequirement already satisfied: scipy in /home/ec2-user/anaconda3/envs/python3/lib/python3.6/site-packages (from xgboost) (1.1.0)\n",
      "Requirement already satisfied: numpy in /home/ec2-user/anaconda3/envs/python3/lib/python3.6/site-packages (from xgboost) (1.14.5)\n",
      "Installing collected packages: xgboost\n",
      "Successfully installed xgboost-0.81\n",
      "\u001b[33mYou are using pip version 10.0.1, however version 19.0.2 is available.\n",
      "You should consider upgrading via the 'pip install --upgrade pip' command.\u001b[0m\n"
     ]
    }
   ],
   "source": [
    "!pip install xgboost"
   ]
  },
  {
   "cell_type": "code",
   "execution_count": 6,
   "metadata": {},
   "outputs": [],
   "source": [
    "import xgboost\n",
    "import pickle as pkl\n",
    "\n",
    "model_local = pkl.load(open('xgboost-model', 'rb'))\n"
   ]
  },
  {
   "cell_type": "code",
   "execution_count": 9,
   "metadata": {},
   "outputs": [
    {
     "name": "stdout",
     "output_type": "stream",
     "text": [
      "2019-02-08 15:34:54          0 _SUCCESS\r\n",
      "2019-02-08 15:34:45  163201548 part-00000-93d44a8d-421b-4cba-8292-4caca4ec1764-c000.csv\r\n",
      "2019-02-08 15:34:44  162166800 part-00001-93d44a8d-421b-4cba-8292-4caca4ec1764-c000.csv\r\n"
     ]
    }
   ],
   "source": [
    "!aws s3 ls s3://mastering-ml-aws/chapter4/test-vector-csv/\n"
   ]
  },
  {
   "cell_type": "code",
   "execution_count": 20,
   "metadata": {},
   "outputs": [],
   "source": [
    "column_names = ['click'] + ['f' + str(i) for i in range(0, 100)]\n",
    "validation_df = pd.read_csv(\n",
    "    's3://mastering-ml-aws/chapter4/test-vector-csv/part-00000-93d44a8d-421b-4cba-8292-4caca4ec1764-c000.csv',\n",
    "    header=None, names=column_names)\n"
   ]
  },
  {
   "cell_type": "code",
   "execution_count": 21,
   "metadata": {},
   "outputs": [],
   "source": [
    "validation_df = validation_df[:3000]\n"
   ]
  },
  {
   "cell_type": "code",
   "execution_count": 22,
   "metadata": {},
   "outputs": [],
   "source": [
    "matrix = xgboost.DMatrix(validation_df[column_names[1:]])\n",
    "validation_df['score'] = model_local.predict(matrix)\n"
   ]
  },
  {
   "cell_type": "code",
   "execution_count": 23,
   "metadata": {},
   "outputs": [
    {
     "data": {
      "text/html": [
       "<div>\n",
       "<style scoped>\n",
       "    .dataframe tbody tr th:only-of-type {\n",
       "        vertical-align: middle;\n",
       "    }\n",
       "\n",
       "    .dataframe tbody tr th {\n",
       "        vertical-align: top;\n",
       "    }\n",
       "\n",
       "    .dataframe thead th {\n",
       "        text-align: right;\n",
       "    }\n",
       "</style>\n",
       "<table border=\"1\" class=\"dataframe\">\n",
       "  <thead>\n",
       "    <tr style=\"text-align: right;\">\n",
       "      <th></th>\n",
       "      <th>click</th>\n",
       "      <th>f0</th>\n",
       "      <th>f1</th>\n",
       "      <th>f2</th>\n",
       "      <th>f3</th>\n",
       "      <th>f4</th>\n",
       "      <th>f5</th>\n",
       "      <th>f6</th>\n",
       "      <th>f7</th>\n",
       "      <th>f8</th>\n",
       "      <th>...</th>\n",
       "      <th>f91</th>\n",
       "      <th>f92</th>\n",
       "      <th>f93</th>\n",
       "      <th>f94</th>\n",
       "      <th>f95</th>\n",
       "      <th>f96</th>\n",
       "      <th>f97</th>\n",
       "      <th>f98</th>\n",
       "      <th>f99</th>\n",
       "      <th>score</th>\n",
       "    </tr>\n",
       "  </thead>\n",
       "  <tbody>\n",
       "    <tr>\n",
       "      <th>0</th>\n",
       "      <td>1</td>\n",
       "      <td>0.0</td>\n",
       "      <td>0.0</td>\n",
       "      <td>0.0</td>\n",
       "      <td>0.0</td>\n",
       "      <td>1.0</td>\n",
       "      <td>0.0</td>\n",
       "      <td>0.0</td>\n",
       "      <td>0.0</td>\n",
       "      <td>0.0</td>\n",
       "      <td>...</td>\n",
       "      <td>0.0</td>\n",
       "      <td>0.0</td>\n",
       "      <td>0.0</td>\n",
       "      <td>0.0</td>\n",
       "      <td>0.0</td>\n",
       "      <td>0.0</td>\n",
       "      <td>0.0</td>\n",
       "      <td>0.0</td>\n",
       "      <td>0.0</td>\n",
       "      <td>0.226555</td>\n",
       "    </tr>\n",
       "    <tr>\n",
       "      <th>1</th>\n",
       "      <td>0</td>\n",
       "      <td>0.0</td>\n",
       "      <td>0.0</td>\n",
       "      <td>0.0</td>\n",
       "      <td>0.0</td>\n",
       "      <td>0.0</td>\n",
       "      <td>0.0</td>\n",
       "      <td>0.0</td>\n",
       "      <td>0.0</td>\n",
       "      <td>0.0</td>\n",
       "      <td>...</td>\n",
       "      <td>0.0</td>\n",
       "      <td>0.0</td>\n",
       "      <td>0.0</td>\n",
       "      <td>0.0</td>\n",
       "      <td>0.0</td>\n",
       "      <td>0.0</td>\n",
       "      <td>0.0</td>\n",
       "      <td>0.0</td>\n",
       "      <td>0.0</td>\n",
       "      <td>0.167860</td>\n",
       "    </tr>\n",
       "    <tr>\n",
       "      <th>2</th>\n",
       "      <td>0</td>\n",
       "      <td>0.0</td>\n",
       "      <td>0.0</td>\n",
       "      <td>0.0</td>\n",
       "      <td>0.0</td>\n",
       "      <td>0.0</td>\n",
       "      <td>0.0</td>\n",
       "      <td>0.0</td>\n",
       "      <td>0.0</td>\n",
       "      <td>0.0</td>\n",
       "      <td>...</td>\n",
       "      <td>0.0</td>\n",
       "      <td>0.0</td>\n",
       "      <td>0.0</td>\n",
       "      <td>0.0</td>\n",
       "      <td>0.0</td>\n",
       "      <td>0.0</td>\n",
       "      <td>0.0</td>\n",
       "      <td>0.0</td>\n",
       "      <td>0.0</td>\n",
       "      <td>0.512123</td>\n",
       "    </tr>\n",
       "    <tr>\n",
       "      <th>3</th>\n",
       "      <td>1</td>\n",
       "      <td>0.0</td>\n",
       "      <td>0.0</td>\n",
       "      <td>0.0</td>\n",
       "      <td>0.0</td>\n",
       "      <td>0.0</td>\n",
       "      <td>0.0</td>\n",
       "      <td>0.0</td>\n",
       "      <td>0.0</td>\n",
       "      <td>0.0</td>\n",
       "      <td>...</td>\n",
       "      <td>0.0</td>\n",
       "      <td>0.0</td>\n",
       "      <td>0.0</td>\n",
       "      <td>0.0</td>\n",
       "      <td>0.0</td>\n",
       "      <td>0.0</td>\n",
       "      <td>0.0</td>\n",
       "      <td>0.0</td>\n",
       "      <td>0.0</td>\n",
       "      <td>0.512123</td>\n",
       "    </tr>\n",
       "    <tr>\n",
       "      <th>4</th>\n",
       "      <td>1</td>\n",
       "      <td>0.0</td>\n",
       "      <td>0.0</td>\n",
       "      <td>0.0</td>\n",
       "      <td>0.0</td>\n",
       "      <td>0.0</td>\n",
       "      <td>0.0</td>\n",
       "      <td>0.0</td>\n",
       "      <td>0.0</td>\n",
       "      <td>0.0</td>\n",
       "      <td>...</td>\n",
       "      <td>0.0</td>\n",
       "      <td>0.0</td>\n",
       "      <td>0.0</td>\n",
       "      <td>0.0</td>\n",
       "      <td>0.0</td>\n",
       "      <td>0.0</td>\n",
       "      <td>0.0</td>\n",
       "      <td>0.0</td>\n",
       "      <td>0.0</td>\n",
       "      <td>0.141251</td>\n",
       "    </tr>\n",
       "  </tbody>\n",
       "</table>\n",
       "<p>5 rows × 102 columns</p>\n",
       "</div>"
      ],
      "text/plain": [
       "   click   f0   f1   f2   f3   f4   f5   f6   f7   f8    ...     f91  f92  \\\n",
       "0      1  0.0  0.0  0.0  0.0  1.0  0.0  0.0  0.0  0.0    ...     0.0  0.0   \n",
       "1      0  0.0  0.0  0.0  0.0  0.0  0.0  0.0  0.0  0.0    ...     0.0  0.0   \n",
       "2      0  0.0  0.0  0.0  0.0  0.0  0.0  0.0  0.0  0.0    ...     0.0  0.0   \n",
       "3      1  0.0  0.0  0.0  0.0  0.0  0.0  0.0  0.0  0.0    ...     0.0  0.0   \n",
       "4      1  0.0  0.0  0.0  0.0  0.0  0.0  0.0  0.0  0.0    ...     0.0  0.0   \n",
       "\n",
       "   f93  f94  f95  f96  f97  f98  f99     score  \n",
       "0  0.0  0.0  0.0  0.0  0.0  0.0  0.0  0.226555  \n",
       "1  0.0  0.0  0.0  0.0  0.0  0.0  0.0  0.167860  \n",
       "2  0.0  0.0  0.0  0.0  0.0  0.0  0.0  0.512123  \n",
       "3  0.0  0.0  0.0  0.0  0.0  0.0  0.0  0.512123  \n",
       "4  0.0  0.0  0.0  0.0  0.0  0.0  0.0  0.141251  \n",
       "\n",
       "[5 rows x 102 columns]"
      ]
     },
     "execution_count": 23,
     "metadata": {},
     "output_type": "execute_result"
    }
   ],
   "source": [
    "validation_df.head()\n"
   ]
  },
  {
   "cell_type": "code",
   "execution_count": 70,
   "metadata": {},
   "outputs": [
    {
     "data": {
      "text/plain": [
       "array([[0., 0., 0., ..., 0., 0., 0.],\n",
       "       [0., 0., 0., ..., 0., 0., 0.],\n",
       "       [0., 0., 0., ..., 0., 0., 0.],\n",
       "       ...,\n",
       "       [0., 0., 0., ..., 0., 0., 0.],\n",
       "       [0., 0., 0., ..., 0., 0., 0.],\n",
       "       [0., 0., 0., ..., 0., 0., 0.]])"
      ]
     },
     "execution_count": 70,
     "metadata": {},
     "output_type": "execute_result"
    }
   ],
   "source": [
    "validation_df[column_names[1:]].as_matrix()\n"
   ]
  },
  {
   "cell_type": "code",
   "execution_count": 25,
   "metadata": {},
   "outputs": [
    {
     "data": {
      "text/plain": [
       "0.6509825765238708"
      ]
     },
     "execution_count": 25,
     "metadata": {},
     "output_type": "execute_result"
    }
   ],
   "source": [
    "from sklearn.metrics import roc_auc_score\n",
    "\n",
    "roc_auc_score(validation_df['click'], validation_df['score'])\n"
   ]
  }
 ],
 "metadata": {
  "kernelspec": {
   "display_name": "conda_python3",
   "language": "python",
   "name": "conda_python3"
  },
  "language_info": {
   "codemirror_mode": {
    "name": "ipython",
    "version": 3
   },
   "file_extension": ".py",
   "mimetype": "text/x-python",
   "name": "python",
   "nbconvert_exporter": "python",
   "pygments_lexer": "ipython3",
   "version": "3.6.5"
  }
 },
 "nbformat": 4,
 "nbformat_minor": 2
}
