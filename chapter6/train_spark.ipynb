{
 "cells": [
  {
   "cell_type": "code",
   "execution_count": 1,
   "metadata": {},
   "outputs": [],
   "source": [
    "# download the sigir17 data from https://sites.google.com/site/limkwanhui/datacode"
   ]
  },
  {
   "cell_type": "code",
   "execution_count": 2,
   "metadata": {},
   "outputs": [],
   "source": [
    "from os.path import expanduser\n",
    "\n",
    "SRC_PATH = expanduser(\"~\") + '/SageMaker/mastering-ml-on-aws/chapter6/'\n"
   ]
  },
  {
   "cell_type": "code",
   "execution_count": 3,
   "metadata": {},
   "outputs": [],
   "source": [
    "from pyspark.context import SparkContext\n",
    "\n",
    "sc = SparkContext('local', 'test')\n"
   ]
  },
  {
   "cell_type": "code",
   "execution_count": 4,
   "metadata": {},
   "outputs": [],
   "source": [
    "from pyspark.sql import SQLContext\n",
    "\n",
    "spark = SQLContext(sc)"
   ]
  },
  {
   "cell_type": "code",
   "execution_count": 86,
   "metadata": {},
   "outputs": [],
   "source": [
    "poi_df = spark.read.csv(SRC_PATH + 'data-sigir17/poiList-sigir17', header=True, inferSchema=True, sep=';')"
   ]
  },
  {
   "cell_type": "code",
   "execution_count": 88,
   "metadata": {},
   "outputs": [
    {
     "data": {
      "text/html": [
       "<div>\n",
       "<style scoped>\n",
       "    .dataframe tbody tr th:only-of-type {\n",
       "        vertical-align: middle;\n",
       "    }\n",
       "\n",
       "    .dataframe tbody tr th {\n",
       "        vertical-align: top;\n",
       "    }\n",
       "\n",
       "    .dataframe thead th {\n",
       "        text-align: right;\n",
       "    }\n",
       "</style>\n",
       "<table border=\"1\" class=\"dataframe\">\n",
       "  <thead>\n",
       "    <tr style=\"text-align: right;\">\n",
       "      <th></th>\n",
       "      <th>poiID</th>\n",
       "      <th>poiName</th>\n",
       "      <th>lat</th>\n",
       "      <th>long</th>\n",
       "      <th>rideDuration</th>\n",
       "      <th>theme</th>\n",
       "      <th>theme2</th>\n",
       "      <th>theme3</th>\n",
       "      <th>theme4</th>\n",
       "    </tr>\n",
       "  </thead>\n",
       "  <tbody>\n",
       "    <tr>\n",
       "      <th>0</th>\n",
       "      <td>1</td>\n",
       "      <td>Gadget's Go Coaster</td>\n",
       "      <td>33.810259</td>\n",
       "      <td>-117.918438</td>\n",
       "      <td>1.00</td>\n",
       "      <td>Kiddie</td>\n",
       "      <td>Roller Coaster</td>\n",
       "      <td>None</td>\n",
       "      <td>None</td>\n",
       "    </tr>\n",
       "    <tr>\n",
       "      <th>1</th>\n",
       "      <td>2</td>\n",
       "      <td>Astro Orbitor</td>\n",
       "      <td>28.418532</td>\n",
       "      <td>-81.579153</td>\n",
       "      <td>1.50</td>\n",
       "      <td>Spinning Ride</td>\n",
       "      <td>None</td>\n",
       "      <td>None</td>\n",
       "      <td>None</td>\n",
       "    </tr>\n",
       "    <tr>\n",
       "      <th>2</th>\n",
       "      <td>3</td>\n",
       "      <td>Mad Tea Party</td>\n",
       "      <td>33.813458</td>\n",
       "      <td>-117.918289</td>\n",
       "      <td>1.50</td>\n",
       "      <td>Family</td>\n",
       "      <td>Spinning Ride</td>\n",
       "      <td>None</td>\n",
       "      <td>None</td>\n",
       "    </tr>\n",
       "    <tr>\n",
       "      <th>3</th>\n",
       "      <td>4</td>\n",
       "      <td>Dumbo the Flying Elephant</td>\n",
       "      <td>33.813680</td>\n",
       "      <td>-117.918928</td>\n",
       "      <td>1.67</td>\n",
       "      <td>Family</td>\n",
       "      <td>Spinning Ride</td>\n",
       "      <td>None</td>\n",
       "      <td>None</td>\n",
       "    </tr>\n",
       "  </tbody>\n",
       "</table>\n",
       "</div>"
      ],
      "text/plain": [
       "   poiID                    poiName        lat        long  rideDuration  \\\n",
       "0      1        Gadget's Go Coaster  33.810259 -117.918438          1.00   \n",
       "1      2              Astro Orbitor  28.418532  -81.579153          1.50   \n",
       "2      3              Mad Tea Party  33.813458 -117.918289          1.50   \n",
       "3      4  Dumbo the Flying Elephant  33.813680 -117.918928          1.67   \n",
       "\n",
       "           theme          theme2 theme3 theme4  \n",
       "0         Kiddie  Roller Coaster   None   None  \n",
       "1  Spinning Ride            None   None   None  \n",
       "2         Family   Spinning Ride   None   None  \n",
       "3         Family   Spinning Ride   None   None  "
      ]
     },
     "execution_count": 88,
     "metadata": {},
     "output_type": "execute_result"
    }
   ],
   "source": [
    "poi_df.limit(4).toPandas()"
   ]
  },
  {
   "cell_type": "code",
   "execution_count": 5,
   "metadata": {},
   "outputs": [],
   "source": [
    "visits_df = spark.read.csv(SRC_PATH + 'data-sigir17/userVisits-sigir17', header=True, inferSchema=True, sep=';')\n"
   ]
  },
  {
   "cell_type": "code",
   "execution_count": 7,
   "metadata": {},
   "outputs": [],
   "source": [
    "sample_df = visits_df.limit(1000).toPandas()"
   ]
  },
  {
   "cell_type": "code",
   "execution_count": 8,
   "metadata": {},
   "outputs": [
    {
     "data": {
      "text/html": [
       "<div>\n",
       "<style scoped>\n",
       "    .dataframe tbody tr th:only-of-type {\n",
       "        vertical-align: middle;\n",
       "    }\n",
       "\n",
       "    .dataframe tbody tr th {\n",
       "        vertical-align: top;\n",
       "    }\n",
       "\n",
       "    .dataframe thead th {\n",
       "        text-align: right;\n",
       "    }\n",
       "</style>\n",
       "<table border=\"1\" class=\"dataframe\">\n",
       "  <thead>\n",
       "    <tr style=\"text-align: right;\">\n",
       "      <th></th>\n",
       "      <th>id</th>\n",
       "      <th>nsid</th>\n",
       "      <th>takenUnix</th>\n",
       "      <th>poiID</th>\n",
       "      <th>poiTheme</th>\n",
       "      <th>poiFreq</th>\n",
       "      <th>rideDuration</th>\n",
       "      <th>seqID</th>\n",
       "    </tr>\n",
       "  </thead>\n",
       "  <tbody>\n",
       "    <tr>\n",
       "      <th>0</th>\n",
       "      <td>5858403310</td>\n",
       "      <td>10004778@N07</td>\n",
       "      <td>1308262550</td>\n",
       "      <td>6</td>\n",
       "      <td>Ride</td>\n",
       "      <td>1665</td>\n",
       "      <td>120.0</td>\n",
       "      <td>1</td>\n",
       "    </tr>\n",
       "    <tr>\n",
       "      <th>1</th>\n",
       "      <td>5857850631</td>\n",
       "      <td>10004778@N07</td>\n",
       "      <td>1308270702</td>\n",
       "      <td>26</td>\n",
       "      <td>Family</td>\n",
       "      <td>18710</td>\n",
       "      <td>900.0</td>\n",
       "      <td>1</td>\n",
       "    </tr>\n",
       "    <tr>\n",
       "      <th>2</th>\n",
       "      <td>5858399220</td>\n",
       "      <td>10004778@N07</td>\n",
       "      <td>1308631356</td>\n",
       "      <td>6</td>\n",
       "      <td>Ride</td>\n",
       "      <td>1665</td>\n",
       "      <td>120.0</td>\n",
       "      <td>2</td>\n",
       "    </tr>\n",
       "    <tr>\n",
       "      <th>3</th>\n",
       "      <td>8277294024</td>\n",
       "      <td>10004778@N07</td>\n",
       "      <td>1355568624</td>\n",
       "      <td>26</td>\n",
       "      <td>Family</td>\n",
       "      <td>18710</td>\n",
       "      <td>900.0</td>\n",
       "      <td>3</td>\n",
       "    </tr>\n",
       "    <tr>\n",
       "      <th>4</th>\n",
       "      <td>9219062165</td>\n",
       "      <td>10004778@N07</td>\n",
       "      <td>1373030964</td>\n",
       "      <td>29</td>\n",
       "      <td>Water</td>\n",
       "      <td>10427</td>\n",
       "      <td>900.0</td>\n",
       "      <td>4</td>\n",
       "    </tr>\n",
       "  </tbody>\n",
       "</table>\n",
       "</div>"
      ],
      "text/plain": [
       "           id          nsid   takenUnix  poiID poiTheme  poiFreq  \\\n",
       "0  5858403310  10004778@N07  1308262550      6     Ride     1665   \n",
       "1  5857850631  10004778@N07  1308270702     26   Family    18710   \n",
       "2  5858399220  10004778@N07  1308631356      6     Ride     1665   \n",
       "3  8277294024  10004778@N07  1355568624     26   Family    18710   \n",
       "4  9219062165  10004778@N07  1373030964     29    Water    10427   \n",
       "\n",
       "   rideDuration  seqID  \n",
       "0         120.0      1  \n",
       "1         900.0      1  \n",
       "2         120.0      2  \n",
       "3         900.0      3  \n",
       "4         900.0      4  "
      ]
     },
     "execution_count": 8,
     "metadata": {},
     "output_type": "execute_result"
    }
   ],
   "source": [
    "sample_df.head()"
   ]
  },
  {
   "cell_type": "code",
   "execution_count": 6,
   "metadata": {},
   "outputs": [
    {
     "data": {
      "text/html": [
       "<div>\n",
       "<style scoped>\n",
       "    .dataframe tbody tr th:only-of-type {\n",
       "        vertical-align: middle;\n",
       "    }\n",
       "\n",
       "    .dataframe tbody tr th {\n",
       "        vertical-align: top;\n",
       "    }\n",
       "\n",
       "    .dataframe thead th {\n",
       "        text-align: right;\n",
       "    }\n",
       "</style>\n",
       "<table border=\"1\" class=\"dataframe\">\n",
       "  <thead>\n",
       "    <tr style=\"text-align: right;\">\n",
       "      <th></th>\n",
       "      <th>summary</th>\n",
       "      <th>id</th>\n",
       "      <th>nsid</th>\n",
       "      <th>takenUnix</th>\n",
       "      <th>poiID</th>\n",
       "      <th>poiTheme</th>\n",
       "      <th>poiFreq</th>\n",
       "      <th>rideDuration</th>\n",
       "      <th>seqID</th>\n",
       "    </tr>\n",
       "  </thead>\n",
       "  <tbody>\n",
       "    <tr>\n",
       "      <th>0</th>\n",
       "      <td>count</td>\n",
       "      <td>332091</td>\n",
       "      <td>332091</td>\n",
       "      <td>332091</td>\n",
       "      <td>332091</td>\n",
       "      <td>332091</td>\n",
       "      <td>332091</td>\n",
       "      <td>332091</td>\n",
       "      <td>332091</td>\n",
       "    </tr>\n",
       "    <tr>\n",
       "      <th>1</th>\n",
       "      <td>mean</td>\n",
       "      <td>8.916292302139416E9</td>\n",
       "      <td>None</td>\n",
       "      <td>1.3233824075555675E9</td>\n",
       "      <td>15.975127299445031</td>\n",
       "      <td>None</td>\n",
       "      <td>6181.338365086678</td>\n",
       "      <td>740.7857015095311</td>\n",
       "      <td>4288.19415762547</td>\n",
       "    </tr>\n",
       "    <tr>\n",
       "      <th>2</th>\n",
       "      <td>stddev</td>\n",
       "      <td>6.226917245549271E9</td>\n",
       "      <td>None</td>\n",
       "      <td>7.424485813151878E7</td>\n",
       "      <td>8.695388902420351</td>\n",
       "      <td>None</td>\n",
       "      <td>5199.41535123871</td>\n",
       "      <td>488.5329445328169</td>\n",
       "      <td>3093.323953206581</td>\n",
       "    </tr>\n",
       "    <tr>\n",
       "      <th>3</th>\n",
       "      <td>min</td>\n",
       "      <td>102530213</td>\n",
       "      <td>10000151@N02</td>\n",
       "      <td>1187918299</td>\n",
       "      <td>1</td>\n",
       "      <td>Dark</td>\n",
       "      <td>162</td>\n",
       "      <td>60.0</td>\n",
       "      <td>1</td>\n",
       "    </tr>\n",
       "    <tr>\n",
       "      <th>4</th>\n",
       "      <td>max</td>\n",
       "      <td>29475731115</td>\n",
       "      <td>99987318@N03</td>\n",
       "      <td>1471870895</td>\n",
       "      <td>31</td>\n",
       "      <td>Water</td>\n",
       "      <td>18710</td>\n",
       "      <td>2700.0</td>\n",
       "      <td>11758</td>\n",
       "    </tr>\n",
       "  </tbody>\n",
       "</table>\n",
       "</div>"
      ],
      "text/plain": [
       "  summary                   id          nsid             takenUnix  \\\n",
       "0   count               332091        332091                332091   \n",
       "1    mean  8.916292302139416E9          None  1.3233824075555675E9   \n",
       "2  stddev  6.226917245549271E9          None   7.424485813151878E7   \n",
       "3     min            102530213  10000151@N02            1187918299   \n",
       "4     max          29475731115  99987318@N03            1471870895   \n",
       "\n",
       "                poiID poiTheme            poiFreq       rideDuration  \\\n",
       "0              332091   332091             332091             332091   \n",
       "1  15.975127299445031     None  6181.338365086678  740.7857015095311   \n",
       "2   8.695388902420351     None   5199.41535123871  488.5329445328169   \n",
       "3                   1     Dark                162               60.0   \n",
       "4                  31    Water              18710             2700.0   \n",
       "\n",
       "               seqID  \n",
       "0             332091  \n",
       "1   4288.19415762547  \n",
       "2  3093.323953206581  \n",
       "3                  1  \n",
       "4              11758  "
      ]
     },
     "execution_count": 6,
     "metadata": {},
     "output_type": "execute_result"
    }
   ],
   "source": [
    "visits_df.describe().toPandas()"
   ]
  },
  {
   "cell_type": "code",
   "execution_count": 9,
   "metadata": {},
   "outputs": [
    {
     "data": {
      "text/html": [
       "<div>\n",
       "<style scoped>\n",
       "    .dataframe tbody tr th:only-of-type {\n",
       "        vertical-align: middle;\n",
       "    }\n",
       "\n",
       "    .dataframe tbody tr th {\n",
       "        vertical-align: top;\n",
       "    }\n",
       "\n",
       "    .dataframe thead th {\n",
       "        text-align: right;\n",
       "    }\n",
       "</style>\n",
       "<table border=\"1\" class=\"dataframe\">\n",
       "  <thead>\n",
       "    <tr style=\"text-align: right;\">\n",
       "      <th></th>\n",
       "      <th>id</th>\n",
       "      <th>takenUnix</th>\n",
       "      <th>poiID</th>\n",
       "      <th>poiFreq</th>\n",
       "      <th>rideDuration</th>\n",
       "      <th>seqID</th>\n",
       "    </tr>\n",
       "  </thead>\n",
       "  <tbody>\n",
       "    <tr>\n",
       "      <th>count</th>\n",
       "      <td>1.000000e+03</td>\n",
       "      <td>1.000000e+03</td>\n",
       "      <td>1000.000000</td>\n",
       "      <td>1000.000000</td>\n",
       "      <td>1000.000000</td>\n",
       "      <td>1000.000000</td>\n",
       "    </tr>\n",
       "    <tr>\n",
       "      <th>mean</th>\n",
       "      <td>8.448781e+09</td>\n",
       "      <td>1.328379e+09</td>\n",
       "      <td>20.785000</td>\n",
       "      <td>7764.625000</td>\n",
       "      <td>625.260600</td>\n",
       "      <td>50.349000</td>\n",
       "    </tr>\n",
       "    <tr>\n",
       "      <th>std</th>\n",
       "      <td>4.805738e+09</td>\n",
       "      <td>6.346368e+07</td>\n",
       "      <td>8.138243</td>\n",
       "      <td>6233.964628</td>\n",
       "      <td>324.947216</td>\n",
       "      <td>20.027838</td>\n",
       "    </tr>\n",
       "    <tr>\n",
       "      <th>min</th>\n",
       "      <td>1.643421e+09</td>\n",
       "      <td>1.191397e+09</td>\n",
       "      <td>1.000000</td>\n",
       "      <td>580.000000</td>\n",
       "      <td>60.000000</td>\n",
       "      <td>1.000000</td>\n",
       "    </tr>\n",
       "    <tr>\n",
       "      <th>25%</th>\n",
       "      <td>6.075781e+09</td>\n",
       "      <td>1.308877e+09</td>\n",
       "      <td>15.000000</td>\n",
       "      <td>2757.000000</td>\n",
       "      <td>270.000000</td>\n",
       "      <td>33.000000</td>\n",
       "    </tr>\n",
       "    <tr>\n",
       "      <th>50%</th>\n",
       "      <td>6.222417e+09</td>\n",
       "      <td>1.310770e+09</td>\n",
       "      <td>23.000000</td>\n",
       "      <td>4082.000000</td>\n",
       "      <td>600.000000</td>\n",
       "      <td>56.000000</td>\n",
       "    </tr>\n",
       "    <tr>\n",
       "      <th>75%</th>\n",
       "      <td>1.151750e+10</td>\n",
       "      <td>1.376198e+09</td>\n",
       "      <td>28.000000</td>\n",
       "      <td>16366.000000</td>\n",
       "      <td>900.000000</td>\n",
       "      <td>69.000000</td>\n",
       "    </tr>\n",
       "    <tr>\n",
       "      <th>max</th>\n",
       "      <td>2.777601e+10</td>\n",
       "      <td>1.466605e+09</td>\n",
       "      <td>31.000000</td>\n",
       "      <td>18710.000000</td>\n",
       "      <td>1500.000000</td>\n",
       "      <td>73.000000</td>\n",
       "    </tr>\n",
       "  </tbody>\n",
       "</table>\n",
       "</div>"
      ],
      "text/plain": [
       "                 id     takenUnix        poiID       poiFreq  rideDuration  \\\n",
       "count  1.000000e+03  1.000000e+03  1000.000000   1000.000000   1000.000000   \n",
       "mean   8.448781e+09  1.328379e+09    20.785000   7764.625000    625.260600   \n",
       "std    4.805738e+09  6.346368e+07     8.138243   6233.964628    324.947216   \n",
       "min    1.643421e+09  1.191397e+09     1.000000    580.000000     60.000000   \n",
       "25%    6.075781e+09  1.308877e+09    15.000000   2757.000000    270.000000   \n",
       "50%    6.222417e+09  1.310770e+09    23.000000   4082.000000    600.000000   \n",
       "75%    1.151750e+10  1.376198e+09    28.000000  16366.000000    900.000000   \n",
       "max    2.777601e+10  1.466605e+09    31.000000  18710.000000   1500.000000   \n",
       "\n",
       "             seqID  \n",
       "count  1000.000000  \n",
       "mean     50.349000  \n",
       "std      20.027838  \n",
       "min       1.000000  \n",
       "25%      33.000000  \n",
       "50%      56.000000  \n",
       "75%      69.000000  \n",
       "max      73.000000  "
      ]
     },
     "execution_count": 9,
     "metadata": {},
     "output_type": "execute_result"
    }
   ],
   "source": [
    "sample_df.describe()"
   ]
  },
  {
   "cell_type": "code",
   "execution_count": 10,
   "metadata": {},
   "outputs": [
    {
     "data": {
      "text/plain": [
       "count             1000\n",
       "unique              36\n",
       "top       10182842@N08\n",
       "freq               365\n",
       "Name: nsid, dtype: object"
      ]
     },
     "execution_count": 10,
     "metadata": {},
     "output_type": "execute_result"
    }
   ],
   "source": [
    "sample_df.nsid.describe()"
   ]
  },
  {
   "cell_type": "code",
   "execution_count": 11,
   "metadata": {},
   "outputs": [],
   "source": [
    "visits_df.createOrReplaceTempView('visits')"
   ]
  },
  {
   "cell_type": "code",
   "execution_count": 89,
   "metadata": {},
   "outputs": [],
   "source": [
    "poi_df.createOrReplaceTempView('points')"
   ]
  },
  {
   "cell_type": "code",
   "execution_count": 12,
   "metadata": {},
   "outputs": [
    {
     "data": {
      "text/plain": [
       "31"
      ]
     },
     "execution_count": 12,
     "metadata": {},
     "output_type": "execute_result"
    }
   ],
   "source": [
    "spark.sql('select distinct poiID from visits').count()"
   ]
  },
  {
   "cell_type": "code",
   "execution_count": 13,
   "metadata": {},
   "outputs": [
    {
     "name": "stdout",
     "output_type": "stream",
     "text": [
      "+-------+------------+-----------------+\n",
      "|summary|        nsid|              cnt|\n",
      "+-------+------------+-----------------+\n",
      "|  count|        8903|             8903|\n",
      "|   mean|        null| 4.86027181848815|\n",
      "| stddev|        null|5.965584836576787|\n",
      "|    min|10000151@N02|                1|\n",
      "|    max|99987318@N03|               31|\n",
      "+-------+------------+-----------------+\n",
      "\n"
     ]
    }
   ],
   "source": [
    "spark.sql('select nsid,count(distinct poiID) as cnt from visits group by nsid').describe().show()"
   ]
  },
  {
   "cell_type": "code",
   "execution_count": 14,
   "metadata": {},
   "outputs": [
    {
     "name": "stdout",
     "output_type": "stream",
     "text": [
      "+-------+------------+------------------+-----------------+\n",
      "|summary|        nsid|             poiID|         count(1)|\n",
      "+-------+------------+------------------+-----------------+\n",
      "|  count|       43271|             43271|            43271|\n",
      "|   mean|        null|14.920061935245315|7.674678190936193|\n",
      "| stddev|        null| 8.437883931275111|52.93100615991835|\n",
      "|    min|10000151@N02|                 1|                1|\n",
      "|    max|99987318@N03|                31|             4128|\n",
      "+-------+------------+------------------+-----------------+\n",
      "\n"
     ]
    }
   ],
   "source": [
    "spark.sql('select nsid,poiID,count(*) from visits group by nsid,poiID').describe().show()"
   ]
  },
  {
   "cell_type": "code",
   "execution_count": 108,
   "metadata": {},
   "outputs": [],
   "source": [
    "train_df = spark.sql('select hash(nsid) as user_hash_id,hash(poiID) as poi_hash_id, poiID, count(*) as pictures_taken from visits group by 1,2, 3')"
   ]
  },
  {
   "cell_type": "code",
   "execution_count": 109,
   "metadata": {},
   "outputs": [
    {
     "data": {
      "text/plain": [
       "43271"
      ]
     },
     "execution_count": 109,
     "metadata": {},
     "output_type": "execute_result"
    }
   ],
   "source": [
    "train_df.count()"
   ]
  },
  {
   "cell_type": "code",
   "execution_count": 110,
   "metadata": {},
   "outputs": [],
   "source": [
    "from pyspark.ml.recommendation import ALS\n",
    "\n",
    "recommender = ALS(userCol=\"user_hash_id\", itemCol=\"poi_hash_id\", ratingCol=\"pictures_taken\", coldStartStrategy=\"drop\")\n",
    "\n",
    "model = recommender.fit(train_df)"
   ]
  },
  {
   "cell_type": "code",
   "execution_count": 111,
   "metadata": {},
   "outputs": [],
   "source": [
    "recommendations = model.recommendForAllUsers(10)"
   ]
  },
  {
   "cell_type": "code",
   "execution_count": 137,
   "metadata": {},
   "outputs": [
    {
     "data": {
      "text/html": [
       "<div>\n",
       "<style scoped>\n",
       "    .dataframe tbody tr th:only-of-type {\n",
       "        vertical-align: middle;\n",
       "    }\n",
       "\n",
       "    .dataframe tbody tr th {\n",
       "        vertical-align: top;\n",
       "    }\n",
       "\n",
       "    .dataframe thead th {\n",
       "        text-align: right;\n",
       "    }\n",
       "</style>\n",
       "<table border=\"1\" class=\"dataframe\">\n",
       "  <thead>\n",
       "    <tr style=\"text-align: right;\">\n",
       "      <th></th>\n",
       "      <th>user_hash_id</th>\n",
       "      <th>recommendations</th>\n",
       "    </tr>\n",
       "  </thead>\n",
       "  <tbody>\n",
       "    <tr>\n",
       "      <th>0</th>\n",
       "      <td>413285690</td>\n",
       "      <td>[(1249949532, 40.04582595825195), (-20661408, ...</td>\n",
       "    </tr>\n",
       "    <tr>\n",
       "      <th>1</th>\n",
       "      <td>1005782960</td>\n",
       "      <td>[(-359179259, 5.537337303161621), (1249949532,...</td>\n",
       "    </tr>\n",
       "    <tr>\n",
       "      <th>2</th>\n",
       "      <td>1410121870</td>\n",
       "      <td>[(1249949532, 11.890027046203613), (-140121007...</td>\n",
       "    </tr>\n",
       "  </tbody>\n",
       "</table>\n",
       "</div>"
      ],
      "text/plain": [
       "   user_hash_id                                    recommendations\n",
       "0     413285690  [(1249949532, 40.04582595825195), (-20661408, ...\n",
       "1    1005782960  [(-359179259, 5.537337303161621), (1249949532,...\n",
       "2    1410121870  [(1249949532, 11.890027046203613), (-140121007..."
      ]
     },
     "execution_count": 137,
     "metadata": {},
     "output_type": "execute_result"
    }
   ],
   "source": [
    "recommendations.limit(3).toPandas()"
   ]
  },
  {
   "cell_type": "code",
   "execution_count": 112,
   "metadata": {},
   "outputs": [],
   "source": [
    "joined_recommenadations = recommendations.join(train_df, 'user_hash_id').join(poi_df, \"poiID\")"
   ]
  },
  {
   "cell_type": "code",
   "execution_count": 113,
   "metadata": {},
   "outputs": [],
   "source": [
    "joined_recommenadations.createOrReplaceTempView('recommendations')"
   ]
  },
  {
   "cell_type": "code",
   "execution_count": 114,
   "metadata": {},
   "outputs": [
    {
     "data": {
      "text/html": [
       "<div>\n",
       "<style scoped>\n",
       "    .dataframe tbody tr th:only-of-type {\n",
       "        vertical-align: middle;\n",
       "    }\n",
       "\n",
       "    .dataframe tbody tr th {\n",
       "        vertical-align: top;\n",
       "    }\n",
       "\n",
       "    .dataframe thead th {\n",
       "        text-align: right;\n",
       "    }\n",
       "</style>\n",
       "<table border=\"1\" class=\"dataframe\">\n",
       "  <thead>\n",
       "    <tr style=\"text-align: right;\">\n",
       "      <th></th>\n",
       "      <th>poiID</th>\n",
       "      <th>user_hash_id</th>\n",
       "      <th>recommendations</th>\n",
       "      <th>poi_hash_id</th>\n",
       "      <th>pictures_taken</th>\n",
       "      <th>poiName</th>\n",
       "      <th>lat</th>\n",
       "      <th>long</th>\n",
       "      <th>rideDuration</th>\n",
       "      <th>theme</th>\n",
       "      <th>theme2</th>\n",
       "      <th>theme3</th>\n",
       "      <th>theme4</th>\n",
       "    </tr>\n",
       "  </thead>\n",
       "  <tbody>\n",
       "    <tr>\n",
       "      <th>0</th>\n",
       "      <td>12</td>\n",
       "      <td>413285690</td>\n",
       "      <td>[(1249949532, 40.04582595825195), (-20661408, ...</td>\n",
       "      <td>-319098976</td>\n",
       "      <td>6</td>\n",
       "      <td>Disney Junior - Live on Stage!</td>\n",
       "      <td>28.357814</td>\n",
       "      <td>-81.560655</td>\n",
       "      <td>25.0</td>\n",
       "      <td>Family</td>\n",
       "      <td>Show</td>\n",
       "      <td>None</td>\n",
       "      <td>Indoor</td>\n",
       "    </tr>\n",
       "    <tr>\n",
       "      <th>1</th>\n",
       "      <td>12</td>\n",
       "      <td>413285690</td>\n",
       "      <td>[(1249949532, 40.04582595825195), (-20661408, ...</td>\n",
       "      <td>-319098976</td>\n",
       "      <td>6</td>\n",
       "      <td>Turtle Talk with Crush</td>\n",
       "      <td>28.375429</td>\n",
       "      <td>-81.551228</td>\n",
       "      <td>17.0</td>\n",
       "      <td>Family</td>\n",
       "      <td>Show</td>\n",
       "      <td>None</td>\n",
       "      <td>Indoor</td>\n",
       "    </tr>\n",
       "    <tr>\n",
       "      <th>2</th>\n",
       "      <td>12</td>\n",
       "      <td>413285690</td>\n",
       "      <td>[(1249949532, 40.04582595825195), (-20661408, ...</td>\n",
       "      <td>-319098976</td>\n",
       "      <td>6</td>\n",
       "      <td>Soarin' Around the World</td>\n",
       "      <td>33.808353</td>\n",
       "      <td>-117.920017</td>\n",
       "      <td>4.5</td>\n",
       "      <td>Ride</td>\n",
       "      <td>Family</td>\n",
       "      <td>3D Ride</td>\n",
       "      <td>Indoor</td>\n",
       "    </tr>\n",
       "    <tr>\n",
       "      <th>3</th>\n",
       "      <td>12</td>\n",
       "      <td>413285690</td>\n",
       "      <td>[(1249949532, 40.04582595825195), (-20661408, ...</td>\n",
       "      <td>-319098976</td>\n",
       "      <td>6</td>\n",
       "      <td>It's A Small World</td>\n",
       "      <td>28.420815</td>\n",
       "      <td>-81.581992</td>\n",
       "      <td>14.0</td>\n",
       "      <td>Water</td>\n",
       "      <td>Ride</td>\n",
       "      <td>Dark</td>\n",
       "      <td>Indoor</td>\n",
       "    </tr>\n",
       "    <tr>\n",
       "      <th>4</th>\n",
       "      <td>12</td>\n",
       "      <td>413285690</td>\n",
       "      <td>[(1249949532, 40.04582595825195), (-20661408, ...</td>\n",
       "      <td>-319098976</td>\n",
       "      <td>6</td>\n",
       "      <td>Matterhorn Bobsleds</td>\n",
       "      <td>33.813041</td>\n",
       "      <td>-117.917815</td>\n",
       "      <td>4.0</td>\n",
       "      <td>Roller Coaster</td>\n",
       "      <td>None</td>\n",
       "      <td>None</td>\n",
       "      <td>None</td>\n",
       "    </tr>\n",
       "  </tbody>\n",
       "</table>\n",
       "</div>"
      ],
      "text/plain": [
       "   poiID  user_hash_id                                    recommendations  \\\n",
       "0     12     413285690  [(1249949532, 40.04582595825195), (-20661408, ...   \n",
       "1     12     413285690  [(1249949532, 40.04582595825195), (-20661408, ...   \n",
       "2     12     413285690  [(1249949532, 40.04582595825195), (-20661408, ...   \n",
       "3     12     413285690  [(1249949532, 40.04582595825195), (-20661408, ...   \n",
       "4     12     413285690  [(1249949532, 40.04582595825195), (-20661408, ...   \n",
       "\n",
       "   poi_hash_id  pictures_taken                         poiName        lat  \\\n",
       "0   -319098976               6  Disney Junior - Live on Stage!  28.357814   \n",
       "1   -319098976               6          Turtle Talk with Crush  28.375429   \n",
       "2   -319098976               6        Soarin' Around the World  33.808353   \n",
       "3   -319098976               6              It's A Small World  28.420815   \n",
       "4   -319098976               6             Matterhorn Bobsleds  33.813041   \n",
       "\n",
       "         long  rideDuration           theme  theme2   theme3  theme4  \n",
       "0  -81.560655          25.0          Family    Show     None  Indoor  \n",
       "1  -81.551228          17.0          Family    Show     None  Indoor  \n",
       "2 -117.920017           4.5            Ride  Family  3D Ride  Indoor  \n",
       "3  -81.581992          14.0           Water    Ride     Dark  Indoor  \n",
       "4 -117.917815           4.0  Roller Coaster    None     None    None  "
      ]
     },
     "execution_count": 114,
     "metadata": {},
     "output_type": "execute_result"
    }
   ],
   "source": [
    "joined_recommenadations.limit(5).toPandas()"
   ]
  },
  {
   "cell_type": "code",
   "execution_count": 115,
   "metadata": {},
   "outputs": [],
   "source": [
    "row_list = spark.sql('select distinct p.poiName, hash(v.poiID) as h from visits v join points p on (p.poiID=v.poiID) ').collect()"
   ]
  },
  {
   "cell_type": "code",
   "execution_count": 116,
   "metadata": {},
   "outputs": [],
   "source": [
    "hash_to_poi_mapping =  dict(map(lambda x: (x.h, x.poiName), row_list))"
   ]
  },
  {
   "cell_type": "code",
   "execution_count": 117,
   "metadata": {},
   "outputs": [
    {
     "data": {
      "text/plain": [
       "{1023896466: 'Gran Fiesta Tour Starring The Three Caballeros',\n",
       " -319098976: 'Matterhorn Bobsleds',\n",
       " -1057351352: 'Haunted Mansion',\n",
       " -1823081949: 'Star Tours: The Adventures Continue',\n",
       " -331964951: \"Snow White's Scary Adventures\",\n",
       " 1546539305: 'Redwood Creek Challenge Trail',\n",
       " -1223696181: \"Frontierland Shootin' Arcade\",\n",
       " 1796998381: 'Mark Twain Riverboat',\n",
       " 1765031574: 'The Seas with Nemo & Friends',\n",
       " -359179259: 'Pirates of the Caribbean',\n",
       " -1041903523: 'British Revolution',\n",
       " -132918897: 'The Barnstormer',\n",
       " 94926449: \"Ellen's Energy Adventure\",\n",
       " -1355542311: 'The Hall of Presidents',\n",
       " -397064898: 'Dumbo the Flying Elephant',\n",
       " 944065163: 'Casey Jr. Circus Train',\n",
       " -20661408: \"Mickey's Fun Wheel\",\n",
       " -1401210078: 'O Canada!',\n",
       " 335551368: 'Radiator Springs Racers',\n",
       " -559580957: 'Test Track',\n",
       " -441499547: \"It's Tough to Be a Bug!\",\n",
       " 1079293707: 'King Arthur Carrousel',\n",
       " -768484170: 'Country Bear Jamboree',\n",
       " 69695535: 'Disney Junior - Live on Stage!',\n",
       " 972445202: 'Fantasmic!',\n",
       " -1731921111: \"Tuck and Roll's Drive 'Em Buggies\",\n",
       " -742629731: 'Big Thunder Mountain Railroad',\n",
       " 441353343: 'Pirates of the Caribbean',\n",
       " 1249949532: \"It's A Small World\",\n",
       " -554124381: 'Star Tours',\n",
       " -1721654386: 'Main Street Cinema'}"
      ]
     },
     "execution_count": 117,
     "metadata": {},
     "output_type": "execute_result"
    }
   ],
   "source": [
    "hash_to_poi_mapping"
   ]
  },
  {
   "cell_type": "code",
   "execution_count": 141,
   "metadata": {},
   "outputs": [
    {
     "data": {
      "text/plain": [
       "<function __main__.poi_names(recommendations, visited_pois)>"
      ]
     },
     "execution_count": 141,
     "metadata": {},
     "output_type": "execute_result"
    }
   ],
   "source": [
    "def poi_names(recommendations, visited_pois):\n",
    "  return str([(hash_to_poi_mapping[poi], weight) for (poi,weight) in recommendations if hash_to_poi_mapping[poi] not in visited_pois])\n",
    "\n",
    "spark.udf.register(\"poi_names\", poi_names)"
   ]
  },
  {
   "cell_type": "code",
   "execution_count": 142,
   "metadata": {},
   "outputs": [],
   "source": [
    "recommendation_sample = spark.sql('select user_hash_id, collect_list(poiName), poi_names(max(recommendations), collect_list(poiName)) from recommendations group by 1').sample(0.1).collect()"
   ]
  },
  {
   "cell_type": "code",
   "execution_count": 143,
   "metadata": {},
   "outputs": [
    {
     "data": {
      "text/plain": [
       "Row(user_hash_id=753179416, collect_list(poiName)=[\"Walt Disney: One Man's Dream\", 'Spaceship Earth', \"California Screamin'\", \"Pete's Silly Sideshow\", 'Casey Jr. Circus Train', \"Ellen's Energy Adventure\", \"The Little Mermaid ~ Ariel's Undersea Adventure\", \"Mickey's PhilharMagic\", 'Buzz Lightyear Astro Blasters'], poi_names(max(recommendations), collect_list(poiName, 0, 0))='[(\\'Pirates of the Caribbean\\', 1.7577803134918213), (\\'Main Street Cinema\\', 1.6354202032089233), (\\'Haunted Mansion\\', 1.5228301286697388), (\"Mickey\\'s Fun Wheel\", 1.4988539218902588), (\"Tuck and Roll\\'s Drive \\'Em Buggies\", 1.3196501731872559), (\"It\\'s A Small World\", 1.0924171209335327), (\\'Disney Junior - Live on Stage!\\', 1.0835790634155273), (\"Frontierland Shootin\\' Arcade\", 0.9953671097755432)]')"
      ]
     },
     "execution_count": 143,
     "metadata": {},
     "output_type": "execute_result"
    }
   ],
   "source": [
    "recommendation_sample[3]"
   ]
  },
  {
   "cell_type": "code",
   "execution_count": 145,
   "metadata": {},
   "outputs": [
    {
     "data": {
      "text/plain": [
       "Row(user_hash_id=-96995627, collect_list(poiName)=['Indiana Jones Epic Stunt Spectacular!', 'Impressions de France', 'Monsters, Inc. Mike & Sulley to the Rescue!', 'Haunted Mansion', \"Roger Rabbit's Car Toon Spin\", 'British Revolution', 'The Twilight Zone Tower of Terror', \"Peter Pan's Flight\", 'Autopia', 'The Great Movie Ride', 'Reflections of China', \"Heimlich's Chew Chew Train\", 'The Barnstormer', \"Peter Pan's Flight\", 'Turtle Talk with Crush', 'Country Bear Jamboree', \"Davy Crockett's Explorer Canoes\", 'Rose & Crown Pub Musician', 'Grizzly River Run', 'The Hall of Presidents', 'Hyperspace Mountain'], poi_names(max(recommendations), collect_list(poiName, 0, 0))='[(\\'Fantasmic!\\', 2.7037513256073), (\"Ellen\\'s Energy Adventure\", 2.526970863342285), (\\'Main Street Cinema\\', 1.4273393154144287), (\"Frontierland Shootin\\' Arcade\", 1.2841346263885498), (\\'Pirates of the Caribbean\\', 1.2152353525161743), (\\'Disney Junior - Live on Stage!\\', 1.1271891593933105), (\"It\\'s A Small World\", 1.051106333732605)]')"
      ]
     },
     "execution_count": 145,
     "metadata": {},
     "output_type": "execute_result"
    }
   ],
   "source": [
    "recommendation_sample[100]"
   ]
  },
  {
   "cell_type": "code",
   "execution_count": 146,
   "metadata": {},
   "outputs": [
    {
     "data": {
      "text/plain": [
       "Row(user_hash_id=209960903, collect_list(poiName)=['Fantasmic!', 'Mark Twain Riverboat', \"Rock 'n' Roller Coaster\", 'Test Track', \"Jumpin' Jellyfish\", 'Space Mountain', \"Gadget's Go Coaster\", 'Disney Junior - Live on Stage!', 'Turtle Talk with Crush', \"Soarin' Around the World\", \"It's A Small World\", 'Matterhorn Bobsleds', \"Ellen's Energy Adventure\", \"The Little Mermaid ~ Ariel's Undersea Adventure\", \"Mickey's PhilharMagic\", 'Buzz Lightyear Astro Blasters', 'Disney Junior - Live on Stage!', 'Jungle Cruise', 'Finding Nemo Submarine Voyage', 'Red Car Trolley & News Boys', 'Pirates of the Caribbean', 'Storybook Land Canal Boats', 'Pirates of the Caribbean'], poi_names(max(recommendations), collect_list(poiName, 0, 0))='[(\"Frontierland Shootin\\' Arcade\", 5.431038856506348), (\\'Star Tours\\', 4.750153064727783), (\"Snow White\\'s Scary Adventures\", 3.1163182258605957), (\\'O Canada!\\', 2.7878997325897217), (\"It\\'s Tough to Be a Bug!\", 2.251542568206787), (\\'The Barnstormer\\', 1.9589238166809082), (\\'Redwood Creek Challenge Trail\\', 1.7033625841140747)]')"
      ]
     },
     "execution_count": 146,
     "metadata": {},
     "output_type": "execute_result"
    }
   ],
   "source": [
    "recommendation_sample[300]"
   ]
  },
  {
   "cell_type": "code",
   "execution_count": 147,
   "metadata": {},
   "outputs": [],
   "source": [
    "sagemaker_test_df = spark.sql('select hash(nsid) as user_hash_id,hash(poiID) as poi_hash_id,count(*) as pictures_taken from visits where abs(hash(nsid) % 10) < 4 group by 1,2')\n",
    "sagemaker_train_df = spark.sql('select hash(nsid) as user_hash_id,hash(poiID) as poi_hash_id,count(*) as pictures_taken from visits where abs(hash(nsid) % 10) >= 4 group by 1,2')"
   ]
  },
  {
   "cell_type": "code",
   "execution_count": 149,
   "metadata": {},
   "outputs": [],
   "source": [
    "from pyspark.ml.feature import OneHotEncoder\n",
    "from pyspark.ml.feature import StringIndexer\n",
    "from pyspark.ml import Pipeline\n",
    "from pyspark.ml.feature import QuantileDiscretizer\n",
    "from pyspark.ml.feature import VectorAssembler\n",
    "\n",
    "\n",
    "pipeline = Pipeline(stages = [\n",
    "    StringIndexer(inputCol='user_hash_id', outputCol=\"user_hash_id_index\", handleInvalid='keep'),\n",
    "    OneHotEncoder(inputCol='user_hash_id_index', outputCol='user_hash_id_encoded'),\n",
    "    StringIndexer(inputCol='poi_hash_id', outputCol='poi_hash_id_indexed', handleInvalid='keep'),\n",
    "    OneHotEncoder(inputCol='poi_hash_id_indexed', outputCol='poi_hash_id_encoded'),\n",
    "    QuantileDiscretizer(numBuckets=5, inputCol='pictures_taken', outputCol='interest_level'),\n",
    "    VectorAssembler(inputCols=['poi_hash_id_encoded', 'user_hash_id_encoded', 'interest_level'],\n",
    "                    outputCol='features'),\n",
    "])\n",
    "\n",
    "model = pipeline.fit(train_df)"
   ]
  },
  {
   "cell_type": "code",
   "execution_count": 151,
   "metadata": {},
   "outputs": [],
   "source": [
    "sparse_df = model.transform(train_df)"
   ]
  },
  {
   "cell_type": "code",
   "execution_count": 152,
   "metadata": {},
   "outputs": [
    {
     "name": "stdout",
     "output_type": "stream",
     "text": [
      "+------------+-----------+-----+--------------+------------------+--------------------+-------------------+-------------------+--------------+--------------------+\n",
      "|user_hash_id|poi_hash_id|poiID|pictures_taken|user_hash_id_index|user_hash_id_encoded|poi_hash_id_indexed|poi_hash_id_encoded|interest_level|            features|\n",
      "+------------+-----------+-----+--------------+------------------+--------------------+-------------------+-------------------+--------------+--------------------+\n",
      "|  -858777831|-1057351352|   13|            14|             325.0|  (8903,[325],[1.0])|                6.0|     (31,[6],[1.0])|           3.0|(8935,[6,356,8934...|\n",
      "|  1816327878|  441353343|   21|            16|            1917.0| (8903,[1917],[1.0])|               26.0|    (31,[26],[1.0])|           3.0|(8935,[26,1948,89...|\n",
      "|     9814056|-1823081949|    3|             1|            6845.0| (8903,[6845],[1.0])|               24.0|    (31,[24],[1.0])|           1.0|(8935,[24,6876,89...|\n",
      "|   588196111|-1823081949|    3|             1|             487.0|  (8903,[487],[1.0])|               24.0|    (31,[24],[1.0])|           1.0|(8935,[24,518,893...|\n",
      "|  -267172837|   94926449|   16|             2|             652.0|  (8903,[652],[1.0])|                1.0|     (31,[1],[1.0])|           1.0|(8935,[1,683,8934...|\n",
      "+------------+-----------+-----+--------------+------------------+--------------------+-------------------+-------------------+--------------+--------------------+\n",
      "only showing top 5 rows\n",
      "\n"
     ]
    }
   ],
   "source": [
    "sparse_df.show(5)"
   ]
  },
  {
   "cell_type": "code",
   "execution_count": 153,
   "metadata": {},
   "outputs": [],
   "source": [
    "sagemaker_train_df, sagemaker_test_df = sparse_df.randomSplit([0.8, 0.2], seed=17)\n"
   ]
  },
  {
   "cell_type": "code",
   "execution_count": 180,
   "metadata": {},
   "outputs": [],
   "source": [
    "# once pyspark supports writing to protobuf directly, as one can do in scala we could do:\n",
    "#\n",
    "# sagemaker_train_df.write.format(\"sagemaker\").option(\"labelColumnName\", \"interest_level\").option(\"featuresColumnName\", \"features\").save(\"s3://mastering-ml-aws/chapter6/train-data/\")"
   ]
  },
  {
   "cell_type": "code",
   "execution_count": 234,
   "metadata": {},
   "outputs": [],
   "source": [
    "from scipy.sparse import csr_matrix\n",
    "import numpy as np \n",
    "import boto3\n",
    "import io\n",
    "import numpy as np\n",
    "import scipy.sparse as sp\n",
    "import sagemaker.amazon.common as smac\n",
    "\n",
    "\n",
    "def spark_vector_to_sparse_matrix(row):\n",
    "    vect = row['features']\n",
    "    return csr_matrix((vect.values, vect.indices, np.array([0, vect.values.size])),(1, vect.size), dtype=np.float32)\n",
    "\n",
    "def upload_matrices_to_s3(dataframe, dataset_name):\n",
    "    features_matrices = dataframe.select(\"features\").rdd.map(spark_vector_to_sparse_matrix).collect()\n",
    "    interest_levels = dataframe.select(\"interest_level\").rdd.map(lambda r: r['interest_level']).collect()\n",
    "    \n",
    "    interest_level_vector = np.array(interest_levels, dtype=np.float32)\n",
    "    buffer = io.BytesIO()\n",
    "    smac.write_spmatrix_to_sparse_tensor(buffer, sp.vstack(features_matrices), interest_level_vector)\n",
    "    buffer.seek(0)\n",
    "    bucket = boto3.resource('s3').Bucket('mastering-ml-aws')\n",
    "    bucket.Object('chapter6/%s-data.protobuf'%dataset_name).upload_fileobj(buffer)"
   ]
  },
  {
   "cell_type": "code",
   "execution_count": 235,
   "metadata": {},
   "outputs": [],
   "source": [
    "upload_matrices_to_s3(sagemaker_train_df, 'train')\n",
    "upload_matrices_to_s3(sagemaker_test_df, 'test')"
   ]
  },
  {
   "cell_type": "code",
   "execution_count": 239,
   "metadata": {},
   "outputs": [
    {
     "data": {
      "text/plain": [
       "(1, 8935)"
      ]
     },
     "execution_count": 239,
     "metadata": {},
     "output_type": "execute_result"
    }
   ],
   "source": [
    "features_matrices[0].shape"
   ]
  },
  {
   "cell_type": "code",
   "execution_count": null,
   "metadata": {},
   "outputs": [],
   "source": []
  }
 ],
 "metadata": {
  "kernelspec": {
   "display_name": "Python 3",
   "language": "python",
   "name": "python3"
  },
  "language_info": {
   "codemirror_mode": {
    "name": "ipython",
    "version": 3
   },
   "file_extension": ".py",
   "mimetype": "text/x-python",
   "name": "python",
   "nbconvert_exporter": "python",
   "pygments_lexer": "ipython3",
   "version": "3.6.7"
  }
 },
 "nbformat": 4,
 "nbformat_minor": 2
}
